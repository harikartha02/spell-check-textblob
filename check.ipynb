{
 "cells": [
  {
   "cell_type": "code",
   "execution_count": 1,
   "metadata": {},
   "outputs": [
    {
     "name": "stderr",
     "output_type": "stream",
     "text": [
      "C:\\Users\\karth\\AppData\\Roaming\\Python\\Python310\\site-packages\\scipy\\__init__.py:146: UserWarning: A NumPy version >=1.17.3 and <1.25.0 is required for this version of SciPy (detected version 1.26.0\n",
      "  warnings.warn(f\"A NumPy version >={np_minversion} and <{np_maxversion}\"\n"
     ]
    }
   ],
   "source": [
    "from textblob import TextBlob\n",
    "\n",
    "# Create a TextBlob object with the text you want to spellcheck\n",
    "text = \"Ths is a smple sentense with speling erors.\"\n"
   ]
  },
  {
   "cell_type": "code",
   "execution_count": 2,
   "metadata": {},
   "outputs": [],
   "source": [
    "def custom_spellcheck(text):\n",
    "    # Create a TextBlob object with the input text\n",
    "    blob = TextBlob(text)\n",
    "\n",
    "    # Initialize a list to store corrected tokens\n",
    "    corrected_tokens = []\n",
    "\n",
    "    for sentence in blob.sentences:\n",
    "        for word in sentence.words:\n",
    "            # Perform spelling correction using TextBlob\n",
    "            corrected_word = word.correct()\n",
    "\n",
    "            # Check if the corrected word is different from the original word\n",
    "            if corrected_word != word:\n",
    "                corrected_tokens.append(corrected_word)\n",
    "            else:\n",
    "                corrected_tokens.append(word)\n",
    "\n",
    "    # Reconstruct the text with corrected tokens\n",
    "    corrected_text = ' '.join(corrected_tokens)\n",
    "\n",
    "    return corrected_text"
   ]
  },
  {
   "cell_type": "code",
   "execution_count": 3,
   "metadata": {},
   "outputs": [
    {
     "name": "stdout",
     "output_type": "stream",
     "text": [
      "The is a smile sentence with spelling errors.\n"
     ]
    }
   ],
   "source": [
    "input_text = \"Ths is a smple sentense with speling erors.\"\n",
    "corrected_text = custom_spellcheck(input_text)\n",
    "print(corrected_text)"
   ]
  }
 ],
 "metadata": {
  "kernelspec": {
   "display_name": "Python 3",
   "language": "python",
   "name": "python3"
  },
  "language_info": {
   "codemirror_mode": {
    "name": "ipython",
    "version": 3
   },
   "file_extension": ".py",
   "mimetype": "text/x-python",
   "name": "python",
   "nbconvert_exporter": "python",
   "pygments_lexer": "ipython3",
   "version": "3.10.6"
  },
  "orig_nbformat": 4
 },
 "nbformat": 4,
 "nbformat_minor": 2
}
